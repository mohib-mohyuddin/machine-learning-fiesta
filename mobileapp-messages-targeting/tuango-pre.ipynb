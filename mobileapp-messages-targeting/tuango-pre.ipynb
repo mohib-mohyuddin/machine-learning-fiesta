{
 "cells": [
  {
   "cell_type": "markdown",
   "metadata": {},
   "source": [
    "> Note: Please read Question 17 at the end of this document carefully before you start your work! You will need to provide a detailed discussion of how you used GenAI for this assignment so make sure to keep notes, create screenshots, etc. so you keep track of your “discussions” as you go through each question."
   ]
  },
  {
   "cell_type": "markdown",
   "metadata": {},
   "source": [
    "> Note: Please also review the assignment PDF in this assignment. That document has the most details about what you are expected to do to complete this individual assignment. Good luck! "
   ]
  },
  {
   "attachments": {},
   "cell_type": "markdown",
   "metadata": {},
   "source": [
    "# Tuango - Targeting Mobile App Messages\n",
    "\n",
    "Prepare \"Tuango: Targeting Mobile Push Messages\" for class discussion and as an individual assignment and submit the assignment through GitHub. Detailed instructions are available on Canvas (tuango.pdf). See the assignment on Canvas for the \"invitation\" to get the repo. Once you accepted the invitation, you should see the repo at the page below.\n",
    "\n",
    "See the assignment on Canvas for the \"invitation\" to get the repo. Once you accepted the invitation, you should see the repo at the page below.\n",
    "\n",
    "<https://github.com/rady-msba>\n",
    "\n",
    "Add code and your answers for all questions to the tuango.ipynb. When you are done with this individual assignment, save your code and commit and push the results to GitHub. Of course you can commit and push code as often as you like, but only before the due date. View the video linked below to refresh your memory on how to clone and push repos.\n",
    "\n",
    "https://youtu.be/w6yzFv44CMc \n",
    "\n",
    "Add text motivating your work in Markdown format. Markdown is a simple formatting syntax for authoring HTML. For more details on using markdown go to http://commonmark.org/help/ for a 10-minute interactive Markdown tutorial\n",
    "\n",
    "Note that your python code must be fully \"reproducible\". That is, your code must without errors on my (or the TAs) computer. There are will not be any explicit tests for this assignment to confirm if your answers are (not) correct. However, the system will run your code and it is important to check that there is a green checkmark rather than a red X. See .github/workflows/run-code.yml for the configuration. \n",
    "\n",
    "If you get a red X, that means your code did not run without errors and that there are things for you the check and fix. When you are done, submit the link to your repo to Canvas. To help you get started, review the logistic regression examples available using the command below. Focus on the bbb-logistic example.\n",
    "\n",
    "usethis \"https://www.dropbox.com/sh/af6t2nvca610d13/AAAtJSph3kyajjd9698MJ1zIa?dl=1\"\n",
    "\n",
    "This is an individual assignment. As a reminder, it is an honor code violation to share any assignment or exam solution from this class with another student in a current class or a future class generation. This includes using cloud storage like Google Drive. It is also an honor code violation to obtain assignments or exams from a student in another current class or a past class generation for use as an aid in solving problems to be turned in and  graded. Please respect the honor code as it helps to maintain parity in the classroom. Any suspected violation will be reported to the Academic Integrity Office for review.\n",
    "\n",
    "## Setup\n",
    "\n",
    "Please complete this python notebook by answering the questions 1-16 in `tuango-msba.pdf`. The code blocks below will load a few python modules you will need and also the data you will need for this first notebook. As you will see, you will also need to create a second notebook called `tuango-post.ipynb`.\n",
    "\n",
    "> Hint: Make sure to study the reading on \"Applied Logistic Regression using Pyrsm and Radiant-for-Python\" which has examples on how to run logistic regression models using the PYRSM package"
   ]
  },
  {
   "cell_type": "code",
   "execution_count": 71,
   "metadata": {},
   "outputs": [],
   "source": [
    "import numpy as np\n",
    "import pandas as pd\n",
    "import polars as pl\n",
    "import pyrsm as rsm\n",
    "import seaborn as sns\n",
    "import matplotlib.pyplot as plt\n",
    "\n",
    "\n",
    "# you can import additional python packages but only use packages that\n",
    "# are already part of the docker container"
   ]
  },
  {
   "cell_type": "code",
   "execution_count": 72,
   "metadata": {},
   "outputs": [
    {
     "data": {
      "text/plain": [
       "'0.9.12'"
      ]
     },
     "execution_count": 72,
     "metadata": {},
     "output_type": "execute_result"
    }
   ],
   "source": [
    "# check that you have version 0.9.10 of pyrsm or newer\n",
    "rsm.__version__"
   ]
  },
  {
   "cell_type": "code",
   "execution_count": 73,
   "metadata": {},
   "outputs": [],
   "source": [
    "# Use this dataset and notebook to answer questions 1-13\n",
    "tuango = pd.read_parquet(\"data/tuango_pre.parquet\")"
   ]
  },
  {
   "cell_type": "code",
   "execution_count": 74,
   "metadata": {},
   "outputs": [],
   "source": [
    "# feel free to use polars instead of pandas if you prefer\n",
    "# but you will need to ajust some of the sample code below \n",
    "# to make it work\n",
    "# tuango = pl.read_parquet(\"data/tuango_pre.parquet\")"
   ]
  },
  {
   "cell_type": "code",
   "execution_count": 75,
   "metadata": {},
   "outputs": [
    {
     "data": {
      "text/markdown": [
       "# Tuango: Targeting Mobile App Push Messages\n",
       "\n",
       "This file contains information about the test and does not have results about the roll-out. Values for `buyer` and `ordersize` are missing for all customers that were not part of the test.\n",
       "\n",
       "## Variable Names and Descriptions\n",
       "* userid: Unique user ID\n",
       "\n",
       "**Response to the customized push message**\n",
       "* buyer: Did the customer buy the Karaoke deal? (\"yes\" or \"no\")\n",
       "* ordersize: Number of 30-minute Karaoke sessions the customer purchased\n",
       "\n",
       "**Recency, Frequency, and Monetary variables**\n",
       "* recency: Days since last purchase of a deal (before the Karaoke deal offer)\n",
       "* frequency: Number of deals purchased during the one year period before the Karaoke deal offer\n",
       "* monetary: Average amount spent per order (in RMB) during the one year period before the Karaoke deal offer\n",
       "\n",
       "**Other variables in the dataset**\n",
       "* age: Age of the customer\n",
       "* gender: Gender identity of the customer (M = male, F = female, O = Other or unknown)\n",
       "* music: Customer made a purchase in the music category during the one-year period before the Karaoke deal offer (\"no\" or \"yes\")\n",
       "* test: Splits the dataset into test (1) and rollout (0) data\n",
       "* training: Splits the dataset into training (1) and test (0) data. This variable will not be used in this assignment"
      ],
      "text/plain": [
       "<IPython.core.display.Markdown object>"
      ]
     },
     "metadata": {},
     "output_type": "display_data"
    }
   ],
   "source": [
    "# dataset description\n",
    "tuango_description = rsm.md(\"data/tuango_pre_description.md\")"
   ]
  },
  {
   "cell_type": "code",
   "execution_count": 76,
   "metadata": {},
   "outputs": [
    {
     "data": {
      "text/html": [
       "<div>\n",
       "<style scoped>\n",
       "    .dataframe tbody tr th:only-of-type {\n",
       "        vertical-align: middle;\n",
       "    }\n",
       "\n",
       "    .dataframe tbody tr th {\n",
       "        vertical-align: top;\n",
       "    }\n",
       "\n",
       "    .dataframe thead th {\n",
       "        text-align: right;\n",
       "    }\n",
       "</style>\n",
       "<table border=\"1\" class=\"dataframe\">\n",
       "  <thead>\n",
       "    <tr style=\"text-align: right;\">\n",
       "      <th></th>\n",
       "      <th>userid</th>\n",
       "      <th>buyer</th>\n",
       "      <th>ordersize</th>\n",
       "      <th>recency</th>\n",
       "      <th>frequency</th>\n",
       "      <th>monetary</th>\n",
       "      <th>age</th>\n",
       "      <th>gender</th>\n",
       "      <th>music</th>\n",
       "      <th>training</th>\n",
       "      <th>test</th>\n",
       "    </tr>\n",
       "  </thead>\n",
       "  <tbody>\n",
       "    <tr>\n",
       "      <th>0</th>\n",
       "      <td>U15889344</td>\n",
       "      <td>no</td>\n",
       "      <td>0.0</td>\n",
       "      <td>309</td>\n",
       "      <td>7.0</td>\n",
       "      <td>39.799999</td>\n",
       "      <td>44</td>\n",
       "      <td>F</td>\n",
       "      <td>yes</td>\n",
       "      <td>0.0</td>\n",
       "      <td>1</td>\n",
       "    </tr>\n",
       "    <tr>\n",
       "      <th>1</th>\n",
       "      <td>U60246497</td>\n",
       "      <td>no</td>\n",
       "      <td>0.0</td>\n",
       "      <td>297</td>\n",
       "      <td>8.0</td>\n",
       "      <td>39.799999</td>\n",
       "      <td>80</td>\n",
       "      <td>M</td>\n",
       "      <td>yes</td>\n",
       "      <td>1.0</td>\n",
       "      <td>1</td>\n",
       "    </tr>\n",
       "    <tr>\n",
       "      <th>2</th>\n",
       "      <td>U22965759</td>\n",
       "      <td>no</td>\n",
       "      <td>0.0</td>\n",
       "      <td>295</td>\n",
       "      <td>1.0</td>\n",
       "      <td>72.900002</td>\n",
       "      <td>59</td>\n",
       "      <td>F</td>\n",
       "      <td>yes</td>\n",
       "      <td>1.0</td>\n",
       "      <td>1</td>\n",
       "    </tr>\n",
       "    <tr>\n",
       "      <th>3</th>\n",
       "      <td>U40811142</td>\n",
       "      <td>no</td>\n",
       "      <td>0.0</td>\n",
       "      <td>277</td>\n",
       "      <td>1.0</td>\n",
       "      <td>40.000000</td>\n",
       "      <td>37</td>\n",
       "      <td>F</td>\n",
       "      <td>yes</td>\n",
       "      <td>0.0</td>\n",
       "      <td>1</td>\n",
       "    </tr>\n",
       "    <tr>\n",
       "      <th>4</th>\n",
       "      <td>U76283952</td>\n",
       "      <td>no</td>\n",
       "      <td>0.0</td>\n",
       "      <td>259</td>\n",
       "      <td>1.0</td>\n",
       "      <td>21.000000</td>\n",
       "      <td>43</td>\n",
       "      <td>F</td>\n",
       "      <td>yes</td>\n",
       "      <td>1.0</td>\n",
       "      <td>1</td>\n",
       "    </tr>\n",
       "  </tbody>\n",
       "</table>\n",
       "</div>"
      ],
      "text/plain": [
       "      userid buyer  ordersize  recency  frequency   monetary  age gender  \\\n",
       "0  U15889344    no        0.0      309        7.0  39.799999   44      F   \n",
       "1  U60246497    no        0.0      297        8.0  39.799999   80      M   \n",
       "2  U22965759    no        0.0      295        1.0  72.900002   59      F   \n",
       "3  U40811142    no        0.0      277        1.0  40.000000   37      F   \n",
       "4  U76283952    no        0.0      259        1.0  21.000000   43      F   \n",
       "\n",
       "  music  training  test  \n",
       "0   yes       0.0     1  \n",
       "1   yes       1.0     1  \n",
       "2   yes       1.0     1  \n",
       "3   yes       0.0     1  \n",
       "4   yes       1.0     1  "
      ]
     },
     "execution_count": 76,
     "metadata": {},
     "output_type": "execute_result"
    }
   ],
   "source": [
    "tuango.head()"
   ]
  },
  {
   "cell_type": "code",
   "execution_count": 77,
   "metadata": {},
   "outputs": [
    {
     "data": {
      "text/plain": [
       "userid         object\n",
       "buyer        category\n",
       "ordersize     float64\n",
       "recency         int32\n",
       "frequency     float64\n",
       "monetary      float64\n",
       "age             int32\n",
       "gender       category\n",
       "music        category\n",
       "training      float64\n",
       "test            int32\n",
       "dtype: object"
      ]
     },
     "execution_count": 77,
     "metadata": {},
     "output_type": "execute_result"
    }
   ],
   "source": [
    "tuango.dtypes"
   ]
  },
  {
   "cell_type": "code",
   "execution_count": 78,
   "metadata": {},
   "outputs": [
    {
     "data": {
      "text/plain": [
       "buyer\n",
       "no     18888\n",
       "yes     2020\n",
       "Name: count, dtype: int64"
      ]
     },
     "execution_count": 78,
     "metadata": {},
     "output_type": "execute_result"
    }
   ],
   "source": [
    "tuango['buyer'].value_counts()"
   ]
  },
  {
   "cell_type": "code",
   "execution_count": 79,
   "metadata": {},
   "outputs": [
    {
     "data": {
      "text/plain": [
       "buyer\n",
       "NaN    397252\n",
       "no      18888\n",
       "yes      2020\n",
       "Name: count, dtype: int64"
      ]
     },
     "execution_count": 79,
     "metadata": {},
     "output_type": "execute_result"
    }
   ],
   "source": [
    "# you will likely find the below useful in this assignment\n",
    "# (i.e., there are missing values in the data that you will need to deal with)\n",
    "tuango.buyer.value_counts(dropna=False)"
   ]
  },
  {
   "cell_type": "code",
   "execution_count": 80,
   "metadata": {},
   "outputs": [
    {
     "data": {
      "text/plain": [
       "buyer\n",
       "True     397252\n",
       "False     20908\n",
       "Name: count, dtype: int64"
      ]
     },
     "execution_count": 80,
     "metadata": {},
     "output_type": "execute_result"
    }
   ],
   "source": [
    "# you will likely find the below useful in this assignment\n",
    "tuango.buyer.isna().value_counts()"
   ]
  },
  {
   "cell_type": "markdown",
   "metadata": {},
   "source": [
    "Already drawing some insights on why the missing data is useful: The missing values for buyer, ordersize represents the 95% of customers that were not part of the karaoke deal experiment. We will train and test the model on the 5% sample and then calculate ROME etc. for the remaining 95% customers to evaluate how financially beneficial targeted marketing is as opposed to \"Spamming\""
   ]
  },
  {
   "cell_type": "code",
   "execution_count": 81,
   "metadata": {},
   "outputs": [
    {
     "data": {
      "text/plain": [
       "buyer_yes\n",
       "NaN    397252\n",
       "0.0     18888\n",
       "1.0      2020\n",
       "Name: count, dtype: int64"
      ]
     },
     "execution_count": 81,
     "metadata": {},
     "output_type": "execute_result"
    }
   ],
   "source": [
    "# create a variable called 'buyer_yes' that has value 1 when buyer == 'yes', has value 0 when buyer == 'no' and has value np.nan when buyer.isna() is True\n",
    "tuango[\"buyer_yes\"] = np.where(tuango.buyer == 'yes',1,\n",
    "                               np.where(tuango.buyer == 'no',0,np.nan))\n",
    "\n",
    "# you can check that you have this set up correctly using the command below\n",
    "tuango.buyer_yes.value_counts(dropna=False)"
   ]
  },
  {
   "attachments": {},
   "cell_type": "markdown",
   "metadata": {},
   "source": [
    "## Part I:  Preliminary Analysis\n",
    "\n",
    "### Question 1\n",
    "\n",
    "What percentage of customers responded to the deal offer message (i.e., bought the deal)?"
   ]
  },
  {
   "cell_type": "code",
   "execution_count": 82,
   "metadata": {},
   "outputs": [
    {
     "data": {
      "text/plain": [
       "'9.66%'"
      ]
     },
     "execution_count": 82,
     "metadata": {},
     "output_type": "execute_result"
    }
   ],
   "source": [
    "# insert calculation code here\n",
    "# the result should be expressed as a percentage as a string with 2 decimal \n",
    "# places and assigned to q1 (e.g., q1 = '5.43%')\n",
    "\n",
    "responders = np.mean(tuango['buyer_yes']) * 100\n",
    "\n",
    "q1 = f\"{responders:.2f}%\"\n",
    "q1 "
   ]
  },
  {
   "attachments": {},
   "cell_type": "markdown",
   "metadata": {},
   "source": [
    "### Question 2\n",
    "\n",
    "What was the average number of sessions purchased by customers that bought one or more 30-minute sessions? Use the ordersize variable for your calculation.\n",
    "\n",
    "Create a pivot table with count, mean and std. deviation of `ordersize` by `buyer`"
   ]
  },
  {
   "cell_type": "code",
   "execution_count": 83,
   "metadata": {},
   "outputs": [
    {
     "data": {
      "text/plain": [
       "ordersize    3.941089\n",
       "Name: yes, dtype: float64"
      ]
     },
     "execution_count": 83,
     "metadata": {},
     "output_type": "execute_result"
    }
   ],
   "source": [
    "# insert calculation code here to create a pd.pivot_table that shows\n",
    "# (1) counts the number of yes and no, (2) the mean ordersize, and \n",
    "# (3) the standard deviation in ordersize for yes and no responses\n",
    "\n",
    "# setting up the pivot table\n",
    "q2 = tuango.pivot_table(values='ordersize',index='buyer',aggfunc=['count','mean','std'])\n",
    "#print(q2)\n",
    "\n",
    "# the below should show your result\n",
    "# do not apply any rounding to your answer\n",
    "q2.loc[\"yes\", \"mean\"]"
   ]
  },
  {
   "attachments": {},
   "cell_type": "markdown",
   "metadata": {},
   "source": [
    "## Part II: Building Targeting Models\n",
    "### Question 3\n",
    "\n",
    "Estimate a logistic regression model using buyer as the dependent variable (target) and, recency, frequency, monetary, age, gender, and music as the explanatory variables (features)"
   ]
  },
  {
   "cell_type": "code",
   "execution_count": 84,
   "metadata": {},
   "outputs": [
    {
     "data": {
      "text/plain": [
       "(20908, 12)"
      ]
     },
     "execution_count": 84,
     "metadata": {},
     "output_type": "execute_result"
    }
   ],
   "source": [
    "# we want to train the model on the 5% of customers who were part of the experiment (random sample) to whom Tuango sent out the karaoke coupons\n",
    "tuango_logit = tuango.dropna(subset=['buyer_yes'])\n",
    "tuango_logit.shape"
   ]
  },
  {
   "cell_type": "code",
   "execution_count": 85,
   "metadata": {},
   "outputs": [
    {
     "data": {
      "text/html": [
       "<div>\n",
       "<style scoped>\n",
       "    .dataframe tbody tr th:only-of-type {\n",
       "        vertical-align: middle;\n",
       "    }\n",
       "\n",
       "    .dataframe tbody tr th {\n",
       "        vertical-align: top;\n",
       "    }\n",
       "\n",
       "    .dataframe thead th {\n",
       "        text-align: right;\n",
       "    }\n",
       "</style>\n",
       "<table border=\"1\" class=\"dataframe\">\n",
       "  <thead>\n",
       "    <tr style=\"text-align: right;\">\n",
       "      <th></th>\n",
       "      <th>userid</th>\n",
       "      <th>buyer</th>\n",
       "      <th>ordersize</th>\n",
       "      <th>recency</th>\n",
       "      <th>frequency</th>\n",
       "      <th>monetary</th>\n",
       "      <th>age</th>\n",
       "      <th>gender</th>\n",
       "      <th>music</th>\n",
       "      <th>training</th>\n",
       "      <th>test</th>\n",
       "      <th>buyer_yes</th>\n",
       "    </tr>\n",
       "  </thead>\n",
       "  <tbody>\n",
       "    <tr>\n",
       "      <th>0</th>\n",
       "      <td>U15889344</td>\n",
       "      <td>no</td>\n",
       "      <td>0.0</td>\n",
       "      <td>309</td>\n",
       "      <td>7.0</td>\n",
       "      <td>39.799999</td>\n",
       "      <td>44</td>\n",
       "      <td>F</td>\n",
       "      <td>yes</td>\n",
       "      <td>0.0</td>\n",
       "      <td>1</td>\n",
       "      <td>0.0</td>\n",
       "    </tr>\n",
       "    <tr>\n",
       "      <th>1</th>\n",
       "      <td>U60246497</td>\n",
       "      <td>no</td>\n",
       "      <td>0.0</td>\n",
       "      <td>297</td>\n",
       "      <td>8.0</td>\n",
       "      <td>39.799999</td>\n",
       "      <td>80</td>\n",
       "      <td>M</td>\n",
       "      <td>yes</td>\n",
       "      <td>1.0</td>\n",
       "      <td>1</td>\n",
       "      <td>0.0</td>\n",
       "    </tr>\n",
       "    <tr>\n",
       "      <th>2</th>\n",
       "      <td>U22965759</td>\n",
       "      <td>no</td>\n",
       "      <td>0.0</td>\n",
       "      <td>295</td>\n",
       "      <td>1.0</td>\n",
       "      <td>72.900002</td>\n",
       "      <td>59</td>\n",
       "      <td>F</td>\n",
       "      <td>yes</td>\n",
       "      <td>1.0</td>\n",
       "      <td>1</td>\n",
       "      <td>0.0</td>\n",
       "    </tr>\n",
       "    <tr>\n",
       "      <th>3</th>\n",
       "      <td>U40811142</td>\n",
       "      <td>no</td>\n",
       "      <td>0.0</td>\n",
       "      <td>277</td>\n",
       "      <td>1.0</td>\n",
       "      <td>40.000000</td>\n",
       "      <td>37</td>\n",
       "      <td>F</td>\n",
       "      <td>yes</td>\n",
       "      <td>0.0</td>\n",
       "      <td>1</td>\n",
       "      <td>0.0</td>\n",
       "    </tr>\n",
       "    <tr>\n",
       "      <th>4</th>\n",
       "      <td>U76283952</td>\n",
       "      <td>no</td>\n",
       "      <td>0.0</td>\n",
       "      <td>259</td>\n",
       "      <td>1.0</td>\n",
       "      <td>21.000000</td>\n",
       "      <td>43</td>\n",
       "      <td>F</td>\n",
       "      <td>yes</td>\n",
       "      <td>1.0</td>\n",
       "      <td>1</td>\n",
       "      <td>0.0</td>\n",
       "    </tr>\n",
       "  </tbody>\n",
       "</table>\n",
       "</div>"
      ],
      "text/plain": [
       "      userid buyer  ordersize  recency  frequency   monetary  age gender  \\\n",
       "0  U15889344    no        0.0      309        7.0  39.799999   44      F   \n",
       "1  U60246497    no        0.0      297        8.0  39.799999   80      M   \n",
       "2  U22965759    no        0.0      295        1.0  72.900002   59      F   \n",
       "3  U40811142    no        0.0      277        1.0  40.000000   37      F   \n",
       "4  U76283952    no        0.0      259        1.0  21.000000   43      F   \n",
       "\n",
       "  music  training  test  buyer_yes  \n",
       "0   yes       0.0     1        0.0  \n",
       "1   yes       1.0     1        0.0  \n",
       "2   yes       1.0     1        0.0  \n",
       "3   yes       0.0     1        0.0  \n",
       "4   yes       1.0     1        0.0  "
      ]
     },
     "execution_count": 85,
     "metadata": {},
     "output_type": "execute_result"
    }
   ],
   "source": [
    "tuango_logit.head()"
   ]
  },
  {
   "cell_type": "code",
   "execution_count": 86,
   "metadata": {},
   "outputs": [
    {
     "name": "stdout",
     "output_type": "stream",
     "text": [
      "Logistic regression (GLM)\n",
      "Data                 : tuango\n",
      "Response variable    : buyer\n",
      "Level                : yes\n",
      "Explanatory variables: recency, frequency, monetary, age, gender, music\n",
      "Null hyp.: There is no effect of x on buyer\n",
      "Alt. hyp.: There is an effect of x on buyer\n",
      "\n",
      "               OR     OR%  coefficient  std.error  z.value p.value     \n",
      "Intercept   0.051  -94.9%        -2.98      0.097  -30.768  < .001  ***\n",
      "gender[F]   1.731   73.1%         0.55      0.054   10.073  < .001  ***\n",
      "gender[O]   1.078    7.8%         0.07      0.128    0.584   0.559     \n",
      "music[yes]  1.908   90.8%         0.65      0.059   10.912  < .001  ***\n",
      "recency     0.999   -0.1%        -0.00      0.000   -3.292  < .001  ***\n",
      "frequency   1.114   11.4%         0.11      0.010   10.861  < .001  ***\n",
      "monetary    1.002    0.2%         0.00      0.000   12.499  < .001  ***\n",
      "age         0.988   -1.2%        -0.01      0.001   -9.115  < .001  ***\n",
      "\n",
      "Signif. codes:  0 '***' 0.001 '**' 0.01 '*' 0.05 '.' 0.1 ' ' 1\n",
      "\n",
      "Pseudo R-squared (McFadden): 0.046\n",
      "Pseudo R-squared (McFadden adjusted): 0.045\n",
      "Area under the RO Curve (AUC): 0.657\n",
      "Log-likelihood: -6334.179, AIC: 12684.358, BIC: 12747.941\n",
      "Chi-squared: 611.493, df(7), p.value < 0.001 \n",
      "Nr obs: 20,908\n"
     ]
    }
   ],
   "source": [
    "# train the model\n",
    "lr = rsm.model.logistic(\n",
    "    data={'tuango':tuango_logit},\n",
    "    rvar='buyer',\n",
    "    lev='yes',\n",
    "    evar=['recency', 'frequency', 'monetary', 'age', 'gender', 'music']\n",
    ")\n",
    "lr.summary()"
   ]
  },
  {
   "cell_type": "code",
   "execution_count": 87,
   "metadata": {},
   "outputs": [
    {
     "name": "stdout",
     "output_type": "stream",
     "text": [
      "\n",
      "Pseudo R-squared (McFadden): 0.046\n",
      "Pseudo R-squared (McFadden adjusted): 0.045\n",
      "Area under the RO Curve (AUC): 0.657\n",
      "Log-likelihood: -6334.179, AIC: 12684.358, BIC: 12747.941\n",
      "Chi-squared: 611.493, df(7), p.value < 0.001 \n",
      "Nr obs: 20,908\n",
      "\n",
      "Variance inflation factors:\n",
      "\n",
      "             vif    Rsq\n",
      "monetary   1.002  0.002\n",
      "recency    1.002  0.002\n",
      "gender     1.001  0.001\n",
      "music      1.001  0.001\n",
      "age        1.000  0.000\n",
      "frequency  1.000  0.000\n"
     ]
    }
   ],
   "source": [
    "lr.summary(main=False, fit=True, vif=True)"
   ]
  },
  {
   "cell_type": "markdown",
   "metadata": {},
   "source": [
    "#### Making some initial observations about the model: \n",
    "\n",
    "The odds ratio for all the evars are pretty close to being >=1 which is to say almost none of the explanatory variables in our model decrease the odds of the customer purchasing the deal (except maybe for recency and age which are slightly below 1). The OR of the monetary is fairly close to being 1 (coefficient of 0.0) which means that one can potentially argue that this variable may not be entirely useful to retain in the model.\n",
    "\n",
    "The Pseudo R-squared is quite low, we learnt that anything >=0.2 is pretty solid and indicative of good performance and this model is below that threshold.\n",
    "\n",
    "The p.value of the chi squared test is < 0.001 which is below the 0.05 threshold we normally take to establish statistical significance - this implies that the model is useful and significant and the independent variables used do hold explanatory power over the response variable. \n",
    "\n",
    "We can also observe that there is no significant suggestion or indication of multi-colinearity among the variables"
   ]
  },
  {
   "attachments": {},
   "cell_type": "markdown",
   "metadata": {},
   "source": [
    "### Question 4\n",
    "\n",
    "Create Prediction plots for all explanatory variables. Describe the effect of each explanatory variable on the probability that a customer will purchase the karaoke deal"
   ]
  },
  {
   "cell_type": "code",
   "execution_count": 88,
   "metadata": {},
   "outputs": [
    {
     "data": {
      "image/png": "[encoded data removed]",
      "text/plain": [
       "<Figure size 1000x1200 with 6 Axes>"
      ]
     },
     "metadata": {},
     "output_type": "display_data"
    }
   ],
   "source": [
    "lr.plot('pred')"
   ]
  },
  {
   "cell_type": "markdown",
   "metadata": {},
   "source": [
    "##### Plotting the full scale of probability (0 to 1)"
   ]
  },
  {
   "cell_type": "code",
   "execution_count": 89,
   "metadata": {},
   "outputs": [
    {
     "data": {
      "image/png": "[encoded data removed]",
      "text/plain": [
       "<Figure size 1000x1200 with 6 Axes>"
      ]
     },
     "metadata": {},
     "output_type": "display_data"
    }
   ],
   "source": [
    "lr.plot('pred',hline=True,minq=0.0,maxq=1.0)"
   ]
  },
  {
   "cell_type": "markdown",
   "metadata": {},
   "source": [
    "#### Interpretation of the above plots\n",
    "\n",
    "Recency: <br>\n",
    "The plot shows a general decreasing trend of purchasing probability as recency increases (i.e. more days have passed since last purchase). This means that customers who recently purchased are more likely to buy the karaoke deal\n",
    "\n",
    "Frequency: <br>\n",
    "The plot a general increasing trend of purchasing probability as frequency increases. This suggests that customers who purchase frequently are more likely to purchase the karaoke deal as opposed to those who have an infrequent purchase history\n",
    "\n",
    "Monetary: <br>\n",
    "The trend shows that higher average spending per order does seem to motivate purchasing the karaoke deal more. This means that customers who on avg spend more are more likely to buy the karaoke deal\n",
    "\n",
    "Age: <br>\n",
    "The plot suggests an inverse relationship of age with probability of purchasing the karaoke deal. Younger customers are more likely to purchase the karaoke deal as compared to the older customers\n",
    "\n",
    "Gender: <br>\n",
    "While looking at the first set of plots (without the quartiles specified) the effect of gender seems very visible: females are more likely to purchase the karaoke deal as compared to males or 'other' gender(s). \n",
    "\n",
    "Music: <br>\n",
    "Customers who have previously purchased in the music category show a slightly higher probability of purchasing the karaoke deal - this makes sense as Karaoke would appeal more to those who are generally interested in music"
   ]
  },
  {
   "attachments": {},
   "cell_type": "markdown",
   "metadata": {},
   "source": [
    "### Question 5\n",
    "\n",
    "Use Permutation Importance to assess variable importance. Which variables seem to be most important in the model?"
   ]
  },
  {
   "cell_type": "code",
   "execution_count": 90,
   "metadata": {},
   "outputs": [
    {
     "data": {
      "image/png": "[encoded data removed]",
      "text/plain": [
       "<Figure size 600x500 with 1 Axes>"
      ]
     },
     "metadata": {},
     "output_type": "display_data"
    }
   ],
   "source": [
    "lr.plot('vimp')"
   ]
  },
  {
   "cell_type": "markdown",
   "metadata": {},
   "source": [
    "Music, gender, age, monetary and frequency seem to be the more important variables with music being the most important in predicting if a customer will purchase the karaoke deal. Recency seems to be the least important explanatory variable and is fairly close to 0 on the importance scale. Elaborating on the concept of permutation importance plots, this basically means that the order of values in the Music, gender, age, monetary and frequency variables is important as it creates meaningful patterns/relationship with the response variable (buyer) which the model makes use of. When we disturb these patterns by shuffling the order of values in these variables/features, the model's performance drops - the more significant the drop, the more important that variable/feature is to the model. "
   ]
  },
  {
   "attachments": {},
   "cell_type": "markdown",
   "metadata": {},
   "source": [
    "### Question 6\n",
    "\n",
    "Add the predicted values from the logistic regression to the \"tuango\" DataFrame. Use \"pred_logit\" as the variable name. Compare the average of the predicted values to the overall response rate (i.e., percentage of buyers). What do you notice when you do this calculation using only the data used to estimate the model? Explain."
   ]
  },
  {
   "cell_type": "code",
   "execution_count": 91,
   "metadata": {},
   "outputs": [
    {
     "data": {
      "text/plain": [
       "(9.659918589483016, 9.661373636885402)"
      ]
     },
     "execution_count": 91,
     "metadata": {},
     "output_type": "execute_result"
    }
   ],
   "source": [
    "tuango['pred_logit'] = lr.predict(data=tuango[tuango['test'] == 0])[\"prediction\"] # making predictions on test == 0 data\n",
    "\n",
    "# comparing the means\n",
    "avg_prediction_model = tuango['pred_logit'].mean()*100\n",
    "# overall response rate (as computed before)\n",
    "overall_response = responders\n",
    "\n",
    "avg_prediction_model,overall_response"
   ]
  },
  {
   "cell_type": "markdown",
   "metadata": {},
   "source": [
    "#### Interpretation\n",
    "When comparing these two metrics, we can observe that the average predicted probability of a customer purchasing the karaoke deal (according to the logistic regression model) is very close to the actual response rate observed in the data used to estimate the model. This similarity suggests that the model is well-calibrated and provides an average probability estimate that aligns closely with the true proportion of customers who purchased the deal in the test sample.\n",
    "\n",
    "However, this close match might also indicate that the model is largely predicting the mean/average response rate for all individuals, rather than effectively differentiating between those who are likely to buy and those who are not. This could be a sign of a model that is not capturing the complexities and individual differences within the data, especially given the low pseudo R-squared value that the model generated (keeping the 0.2 - 0.4 range as a good benchmark). \n",
    "\n",
    "To summarize, the model's average prediction aligns with the overall response rate but it may not be accurately differentiating between distinct customer behaviors at an individual level - again referencing the low pseudo R-squared value. We may need to add more features or perhaps perform variable transformations to increase the predictive power of the model. "
   ]
  },
  {
   "attachments": {},
   "cell_type": "markdown",
   "metadata": {},
   "source": [
    "### Question 7\n",
    "\n",
    "Estimate a linear regression model using \"ordersize\" as the response variable and recency, frequency, monetary, age, gender, and music as the explanatory variables. Estimate this regression using only those customers who placed an order after the deal offer message. Describe why you think it does (not) make sense to focus on this group of customers."
   ]
  },
  {
   "cell_type": "code",
   "execution_count": 92,
   "metadata": {},
   "outputs": [
    {
     "name": "stdout",
     "output_type": "stream",
     "text": [
      "(2020, 12)\n"
     ]
    },
    {
     "data": {
      "text/html": [
       "<div>\n",
       "<style scoped>\n",
       "    .dataframe tbody tr th:only-of-type {\n",
       "        vertical-align: middle;\n",
       "    }\n",
       "\n",
       "    .dataframe tbody tr th {\n",
       "        vertical-align: top;\n",
       "    }\n",
       "\n",
       "    .dataframe thead th {\n",
       "        text-align: right;\n",
       "    }\n",
       "</style>\n",
       "<table border=\"1\" class=\"dataframe\">\n",
       "  <thead>\n",
       "    <tr style=\"text-align: right;\">\n",
       "      <th></th>\n",
       "      <th>userid</th>\n",
       "      <th>buyer</th>\n",
       "      <th>ordersize</th>\n",
       "      <th>recency</th>\n",
       "      <th>frequency</th>\n",
       "      <th>monetary</th>\n",
       "      <th>age</th>\n",
       "      <th>gender</th>\n",
       "      <th>music</th>\n",
       "      <th>training</th>\n",
       "      <th>test</th>\n",
       "      <th>buyer_yes</th>\n",
       "    </tr>\n",
       "  </thead>\n",
       "  <tbody>\n",
       "    <tr>\n",
       "      <th>8</th>\n",
       "      <td>U79932394</td>\n",
       "      <td>yes</td>\n",
       "      <td>4.0</td>\n",
       "      <td>212</td>\n",
       "      <td>1.0</td>\n",
       "      <td>19.900000</td>\n",
       "      <td>59</td>\n",
       "      <td>F</td>\n",
       "      <td>yes</td>\n",
       "      <td>1.0</td>\n",
       "      <td>1</td>\n",
       "      <td>1.0</td>\n",
       "    </tr>\n",
       "    <tr>\n",
       "      <th>14</th>\n",
       "      <td>U73924857</td>\n",
       "      <td>yes</td>\n",
       "      <td>5.0</td>\n",
       "      <td>177</td>\n",
       "      <td>10.0</td>\n",
       "      <td>40.000000</td>\n",
       "      <td>41</td>\n",
       "      <td>F</td>\n",
       "      <td>yes</td>\n",
       "      <td>1.0</td>\n",
       "      <td>1</td>\n",
       "      <td>1.0</td>\n",
       "    </tr>\n",
       "    <tr>\n",
       "      <th>29</th>\n",
       "      <td>U74007327</td>\n",
       "      <td>yes</td>\n",
       "      <td>5.0</td>\n",
       "      <td>107</td>\n",
       "      <td>1.0</td>\n",
       "      <td>72.000000</td>\n",
       "      <td>26</td>\n",
       "      <td>O</td>\n",
       "      <td>yes</td>\n",
       "      <td>0.0</td>\n",
       "      <td>1</td>\n",
       "      <td>1.0</td>\n",
       "    </tr>\n",
       "    <tr>\n",
       "      <th>34</th>\n",
       "      <td>U17047572</td>\n",
       "      <td>yes</td>\n",
       "      <td>3.0</td>\n",
       "      <td>101</td>\n",
       "      <td>4.0</td>\n",
       "      <td>70.000000</td>\n",
       "      <td>56</td>\n",
       "      <td>F</td>\n",
       "      <td>yes</td>\n",
       "      <td>0.0</td>\n",
       "      <td>1</td>\n",
       "      <td>1.0</td>\n",
       "    </tr>\n",
       "    <tr>\n",
       "      <th>49</th>\n",
       "      <td>U67414450</td>\n",
       "      <td>yes</td>\n",
       "      <td>4.0</td>\n",
       "      <td>50</td>\n",
       "      <td>1.0</td>\n",
       "      <td>65.599998</td>\n",
       "      <td>20</td>\n",
       "      <td>F</td>\n",
       "      <td>yes</td>\n",
       "      <td>1.0</td>\n",
       "      <td>1</td>\n",
       "      <td>1.0</td>\n",
       "    </tr>\n",
       "  </tbody>\n",
       "</table>\n",
       "</div>"
      ],
      "text/plain": [
       "       userid buyer  ordersize  recency  frequency   monetary  age gender  \\\n",
       "8   U79932394   yes        4.0      212        1.0  19.900000   59      F   \n",
       "14  U73924857   yes        5.0      177       10.0  40.000000   41      F   \n",
       "29  U74007327   yes        5.0      107        1.0  72.000000   26      O   \n",
       "34  U17047572   yes        3.0      101        4.0  70.000000   56      F   \n",
       "49  U67414450   yes        4.0       50        1.0  65.599998   20      F   \n",
       "\n",
       "   music  training  test  buyer_yes  \n",
       "8    yes       1.0     1        1.0  \n",
       "14   yes       1.0     1        1.0  \n",
       "29   yes       0.0     1        1.0  \n",
       "34   yes       0.0     1        1.0  \n",
       "49   yes       1.0     1        1.0  "
      ]
     },
     "execution_count": 92,
     "metadata": {},
     "output_type": "execute_result"
    }
   ],
   "source": [
    "# we want to train the model on customers who were part of the sample rollout (5%) and bought the deal -- we want to see if they bought, how big was their basket? How much did they spend? \n",
    "tuango_ordersize = tuango_logit[tuango_logit['buyer_yes'] == 1]\n",
    "print(tuango_ordersize.shape)\n",
    "tuango_ordersize.head()"
   ]
  },
  {
   "cell_type": "code",
   "execution_count": 93,
   "metadata": {},
   "outputs": [
    {
     "name": "stdout",
     "output_type": "stream",
     "text": [
      "Linear regression (OLS)\n",
      "Data                 : tuango_ordersize\n",
      "Response variable    : ordersize\n",
      "Explanatory variables: recency, frequency, monetary, age, gender, music\n",
      "Null hyp.: the effect of x on ordersize is zero\n",
      "Alt. hyp.: the effect of x on ordersize is not zero\n",
      "\n",
      "            coefficient  std.error  t.value p.value     \n",
      "Intercept         3.665      0.174   21.104  < .001  ***\n",
      "gender[F]         0.126      0.089    1.425   0.154     \n",
      "gender[O]         0.259      0.208    1.243   0.214     \n",
      "music[yes]        0.025      0.097    0.255   0.799     \n",
      "recency           0.000      0.001    0.591   0.555     \n",
      "frequency         0.023      0.016    1.456   0.145     \n",
      "monetary          0.000      0.000    1.035   0.301     \n",
      "age               0.001      0.003    0.389   0.697     \n",
      "\n",
      "Signif. codes:  0 '***' 0.001 '**' 0.01 '*' 0.05 '.' 0.1 ' ' 1\n",
      "\n",
      "R-squared: 0.003, Adjusted R-squared: -0.0\n",
      "F-statistic: 0.939 df(7, 2012), p.value 0.475\n",
      "Nr obs: 2,020\n",
      "\n",
      "Sum of squares:\n",
      "\n",
      "               df     SS\n",
      "Regression      7     19\n",
      "Error       2,012  5,828\n",
      "Total       2,019  5,847\n"
     ]
    }
   ],
   "source": [
    "# train a linear regression model\n",
    "feature_matrix = ['recency', 'frequency', 'monetary', 'age', 'gender', 'music']\n",
    "reg = rsm.regress({'tuango_ordersize':tuango_ordersize},rvar='ordersize',evar=feature_matrix)\n",
    "\n",
    "reg.summary(ssq=True)"
   ]
  },
  {
   "cell_type": "markdown",
   "metadata": {},
   "source": [
    "#### Explanation\n",
    "\n",
    "The objective is to understand the factors influencing the number of sessions purchased. We are trying to understand that given a customer bought the deal, how much did they buy? This is a different problem than the one being addressed by the logit model where we are trying to predict if a customer buys the karaoke deal yes or no. Given our objective, it is logical to only include those who have made a purchase, as non-buyers do not contribute to understanding the variations in order size.\n",
    "\n",
    "Targeted Approach: This analysis aims to uncover insights specifically about purchasing behavior in particular how much did a customer buy which is captured in the order size variable. Analyzing only buyers helps isolate and understand the patterns and drivers among those who have already shown an inclination to buy.\n",
    "\n",
    "Avoiding Skewed Data: Including non-buyers (who would have an order size of zero) could skew the analysis and lead to misleading interpretations about the factors influencing order size.\n",
    "\n",
    "Model Precision: Focusing on buyers allows for a more precise and accurate model for understanding and predicting order size, as it eliminates the noise that non-buyers would introduce into the model.\n",
    "\n",
    "However, it's important to note that while this approach is useful for understanding factors affecting order size among buyers, it does not provide insights into what drives customers to make the initial purchase decision - that is a different problem and is being addressed by the logit model. \n",
    "\n",
    "While the approach may make sense, I want to share a few thoughts and comments about the model's performance. The R-squared statistic is very low (0.003) meaning only 0.3% of the variation in the ordersize variable can be explained by the explanatory variables we have used which indicates that other factors not included in the model should potentially be included. Moreover, the p-value of all the explanatory variables is >0.05 which indicates that they may not be statistically significant. \n",
    "\n",
    "In summary, while the approach may make sense as it directly tackles the question \"If they bought, how much did they buy? How much did they spend?\" but the model's performance is below par and may not be useful. "
   ]
  },
  {
   "attachments": {},
   "cell_type": "markdown",
   "metadata": {},
   "source": [
    "### Question 8\n",
    "\n",
    "Use Permutation Importance to assess variable importance. Which variables seem to be most important in the model?"
   ]
  },
  {
   "cell_type": "code",
   "execution_count": 94,
   "metadata": {},
   "outputs": [
    {
     "data": {
      "image/png": "[encoded data removed]",
      "text/plain": [
       "<Figure size 600x500 with 1 Axes>"
      ]
     },
     "metadata": {},
     "output_type": "display_data"
    }
   ],
   "source": [
    "reg.plot('vimp')"
   ]
  },
  {
   "cell_type": "markdown",
   "metadata": {},
   "source": [
    "Gender, monetary, and frequency seem to be more important in estimating order size while recency, age, and music are less important with music being the least important variable. This is interesting as previously we saw that music is the most important factor for predicting whether a customer will buy the karaoke deal or not. Then again, the two models are answering different questions so this is not unusual. "
   ]
  },
  {
   "attachments": {},
   "cell_type": "markdown",
   "metadata": {},
   "source": [
    "### Question 9\n",
    "\n",
    "What do the linear regression model results suggest about our ability to predict ordersize for customers who responded to the deal?\n"
   ]
  },
  {
   "attachments": {},
   "cell_type": "markdown",
   "metadata": {},
   "source": [
    "While the approach may make sense, I want to share a few thoughts and comments about the model's performance. The R-squared statistic is very low (0.003) meaning only 0.3% of the variation in the ordersize variable can be explained by the explanatory variables we have used which indicates that other factors not included in the model should potentially be included. Moreover, the p-value of all the explanatory variables is >0.05 which indicates that they may not be statistically significant. \n",
    "\n",
    "In summary, while the approach may make sense as it directly tackles the question \"If they bought, how much did they buy? How much did they spend?\" but the model's performance is below par and may not be useful. "
   ]
  },
  {
   "attachments": {},
   "cell_type": "markdown",
   "metadata": {},
   "source": [
    "### Question 10\n",
    "\n",
    "Add the predicted values from the linear regression to the \"tuango\" data.frame. Compare the average of the predicted values to the average value of ordersize. Make sure to focus only on buyers. What do you notice?"
   ]
  },
  {
   "cell_type": "code",
   "execution_count": 95,
   "metadata": {},
   "outputs": [
    {
     "data": {
      "text/plain": [
       "3.9162322402622727"
      ]
     },
     "execution_count": 95,
     "metadata": {},
     "output_type": "execute_result"
    }
   ],
   "source": [
    "pred = reg.predict(data=tuango[tuango['test'] == 0])['prediction']\n",
    "np.mean(pred)"
   ]
  },
  {
   "cell_type": "code",
   "execution_count": 96,
   "metadata": {},
   "outputs": [
    {
     "data": {
      "text/plain": [
       "(3.916232240262273, 3.9410891089108913)"
      ]
     },
     "execution_count": 96,
     "metadata": {},
     "output_type": "execute_result"
    }
   ],
   "source": [
    "tuango['pred_linear'] = reg.predict(data=tuango[tuango['test'] == 0])['prediction'] # making predictions on the 397252 customers test == 0\n",
    "tuango['pred_linear'].mean(),tuango_ordersize['ordersize'].mean()"
   ]
  },
  {
   "cell_type": "markdown",
   "metadata": {},
   "source": [
    "The average predicted order size from the linear regression model, when focused only on buyers, is approximately 3.916. This value is lower than the actual avg ordersize when analyzing data from those customers who were offered the deal and bought it. \n",
    "\n",
    "What we notice here is a relatively close approximation between the average predicted and actual order sizes among buyers. This outcome suggests that while the individual predictions for order size (for each customer) might vary, the model, on average, is able to predict with decent accuracy the overall average order size for the group of customers who made a purchase.\n",
    "\n",
    "However, it's important to remember that this does not necessarily imply that the model is accurate on an individual level. The low R-squared value from the previous analysis indicates that the model's explanatory power for individual variations in order size is quite limited. Therefore, while the model captures the average behavior well, it may not be as effective in predicting individual customer's order sizes when deployed on a larger test data set"
   ]
  },
  {
   "attachments": {},
   "cell_type": "markdown",
   "metadata": {},
   "source": [
    "## Part III: Profitability Analysis\n",
    "### Question 11\n",
    "\n",
    "What is the breakeven response rate? Use the average ordersize from question 2 in your revenue calculations."
   ]
  },
  {
   "cell_type": "code",
   "execution_count": 97,
   "metadata": {},
   "outputs": [
    {
     "data": {
      "text/plain": [
       "0.09320949834524941"
      ]
     },
     "execution_count": 97,
     "metadata": {},
     "output_type": "execute_result"
    }
   ],
   "source": [
    "# state your assumptions that are relevant to calculate \n",
    "# the breakeven response rate\n",
    "# breakeven should be of type `float`\n",
    "\n",
    "# assumptions: There is no cost of production as we had in the bbb example. Tuango just takes a share of the karaoke deal revenue without incurring any cost.\n",
    "\n",
    "cost = 9.0 # this cost here refers to the marginal cost of sending an additional deal message that Liu and her team estimated\n",
    "selling_price = 49 # indicated in the case study\n",
    "tuango_share = 0.5 * selling_price\n",
    "avg_ordersize = q2.loc[\"yes\", \"mean\"].mean() # using the mean to pull the value -- I can also use min or max since its one value\n",
    "margin = tuango_share * avg_ordersize\n",
    "breakeven = cost/margin # float, do not apply rounding, do not express as a percentage\n",
    "q11 = breakeven # float, DO NOT APPLY ROUNDING, do not express as a percentage\n",
    "breakeven"
   ]
  },
  {
   "cell_type": "markdown",
   "metadata": {},
   "source": [
    "The breakeven response rate is approximately 0.0932 based on the avg ordersize. This value represents the minimum proportion of customers who need to respond to the deal offer (i.e., make a purchase) for Tuango to cover the marginal cost of sending an additional deal message.\n",
    "\n",
    "In other words, at least about 9.32% of the customers to whom the deal message is sent must purchase the deal for the campaign to be financially viable."
   ]
  },
  {
   "cell_type": "markdown",
   "metadata": {},
   "source": [
    "#### Plotting a line plot to get a sense of how many customers are above the breakeven point -- remove later"
   ]
  },
  {
   "cell_type": "code",
   "execution_count": 98,
   "metadata": {},
   "outputs": [
    {
     "data": {
      "text/plain": [
       "<matplotlib.lines.Line2D at 0xfffef590c210>"
      ]
     },
     "execution_count": 98,
     "metadata": {},
     "output_type": "execute_result"
    },
    {
     "data": {
      "image/png": "[encoded data removed]",
      "text/plain": [
       "<Figure size 640x480 with 1 Axes>"
      ]
     },
     "metadata": {},
     "output_type": "display_data"
    }
   ],
   "source": [
    "ax = sns.lineplot(y=tuango.pred_logit.sort_values(ascending=False),x = np.arange(tuango.shape[0]))\n",
    "ax.set(ylabel = 'Purchase Probability')\n",
    "ax.set(xlabel = 'Customers')\n",
    "ax.axhline(breakeven,ls='--')"
   ]
  },
  {
   "cell_type": "code",
   "execution_count": 99,
   "metadata": {},
   "outputs": [
    {
     "data": {
      "text/plain": [
       "397252"
      ]
     },
     "execution_count": 99,
     "metadata": {},
     "output_type": "execute_result"
    }
   ],
   "source": [
    "tuango[tuango['buyer_yes'].isna()].shape[0]"
   ]
  },
  {
   "cell_type": "code",
   "execution_count": 100,
   "metadata": {},
   "outputs": [
    {
     "data": {
      "text/plain": [
       "0.09661373636885402"
      ]
     },
     "execution_count": 100,
     "metadata": {},
     "output_type": "execute_result"
    }
   ],
   "source": [
    "np.mean(tuango['buyer_yes'])"
   ]
  },
  {
   "attachments": {},
   "cell_type": "markdown",
   "metadata": {
    "lines_to_next_cell": 2
   },
   "source": [
    "### Question 12\n",
    "\n",
    "What is the projected profit in RMB and the return on marketing expenditures if you offer the deal to all 397,252 remaining customers (i.e., target everyone)?"
   ]
  },
  {
   "cell_type": "code",
   "execution_count": 101,
   "metadata": {},
   "outputs": [
    {
     "data": {
      "text/plain": [
       "0.036522436919414154"
      ]
     },
     "execution_count": 101,
     "metadata": {},
     "output_type": "execute_result"
    }
   ],
   "source": [
    "# insert calculation code here\n",
    "# all variables should be numeric (integer or float) and of length 1\n",
    "# _all stands for 'targeting all'\n",
    "tuango[\"message_all\"] = True\n",
    "\n",
    "nr_message_all = tuango[tuango['buyer_yes'].isna()].shape[0] # total number of messages that would be sent out\n",
    "message_cost_all = cost * nr_message_all # total cost of sending messages to selected customers (float)\n",
    "nr_responses_all = np.mean(tuango['buyer_yes']) * nr_message_all   # total number of positive responses\n",
    "response_rate_all = nr_responses_all/nr_message_all  # expressed as a proportion (no rounding)\n",
    "revenue_all = selling_price * (avg_ordersize * nr_responses_all)  # total revenue in RMB (no rounding)\n",
    "profit_all = 0.5 * revenue_all - message_cost_all   #- total profit in RMB (no rounding)\n",
    "ROME_all = profit_all/message_cost_all  # Return on Marketing Expenditures expressed as a proportion (no rounding)\n",
    "\n",
    "ROME_all"
   ]
  },
  {
   "cell_type": "code",
   "execution_count": 102,
   "metadata": {},
   "outputs": [
    {
     "data": {
      "text/plain": [
       "397252"
      ]
     },
     "metadata": {},
     "output_type": "display_data"
    },
    {
     "data": {
      "text/plain": [
       "3575268.0"
      ]
     },
     "metadata": {},
     "output_type": "display_data"
    },
    {
     "data": {
      "text/plain": [
       "38380.0"
      ]
     },
     "metadata": {},
     "output_type": "display_data"
    },
    {
     "data": {
      "text/plain": [
       "0.09661373636885402"
      ]
     },
     "metadata": {},
     "output_type": "display_data"
    },
    {
     "data": {
      "text/plain": [
       "7411691.0"
      ]
     },
     "metadata": {},
     "output_type": "display_data"
    },
    {
     "data": {
      "text/plain": [
       "130577.5"
      ]
     },
     "metadata": {},
     "output_type": "display_data"
    },
    {
     "data": {
      "text/plain": [
       "0.036522436919414154"
      ]
     },
     "metadata": {},
     "output_type": "display_data"
    }
   ],
   "source": [
    "display(nr_message_all, message_cost_all, nr_responses_all, response_rate_all, revenue_all, profit_all, ROME_all)"
   ]
  },
  {
   "cell_type": "markdown",
   "metadata": {},
   "source": [
    "The return on Marketing Expense is approximately 3.65%"
   ]
  },
  {
   "attachments": {},
   "cell_type": "markdown",
   "metadata": {},
   "source": [
    "### Question 13\n",
    "\n",
    "Evaluate the performance implications of offering the deal to only those customers (out of 397,252) with a predicted probability of purchase greater than the breakeven response rate. Determine the projected profit in RMB and the return on marketing expenditures both approaches.\n",
    "\n",
    "Note: Fine tune your estimate from Q2 above by determining the average amount spent among the people that (1) will receive a message and (2) bought a karaoke deal. Also, use the actual number of messages you plan to send out to the group of customers in the rollout sample (i.e., \"test == 0\")"
   ]
  },
  {
   "cell_type": "code",
   "execution_count": 103,
   "metadata": {},
   "outputs": [
    {
     "data": {
      "text/plain": [
       "pred_logit\n",
       "False    397252\n",
       "True      20908\n",
       "Name: count, dtype: int64"
      ]
     },
     "execution_count": 103,
     "metadata": {},
     "output_type": "execute_result"
    }
   ],
   "source": [
    "tuango['pred_logit'].isna().value_counts()"
   ]
  },
  {
   "cell_type": "code",
   "execution_count": 104,
   "metadata": {},
   "outputs": [
    {
     "data": {
      "text/plain": [
       "418160"
      ]
     },
     "execution_count": 104,
     "metadata": {},
     "output_type": "execute_result"
    }
   ],
   "source": [
    "tuango['message_logit'] = tuango.pred_logit > breakeven # filtering for only those who are above the breakeven\n",
    "tuango['message_logit'].shape[0]"
   ]
  },
  {
   "cell_type": "code",
   "execution_count": 105,
   "metadata": {},
   "outputs": [
    {
     "data": {
      "text/plain": [
       "174126"
      ]
     },
     "execution_count": 105,
     "metadata": {},
     "output_type": "execute_result"
    }
   ],
   "source": [
    "tuango[tuango['message_logit']].shape[0]"
   ]
  },
  {
   "cell_type": "code",
   "execution_count": 106,
   "metadata": {},
   "outputs": [
    {
     "data": {
      "text/plain": [
       "3.9566438209642882"
      ]
     },
     "execution_count": 106,
     "metadata": {},
     "output_type": "execute_result"
    }
   ],
   "source": [
    "optimized_avg_ordersize = tuango[tuango['message_logit'] == True]\n",
    "optimized_avg_ordersize = optimized_avg_ordersize['pred_linear'].mean()\n",
    "optimized_avg_ordersize"
   ]
  },
  {
   "cell_type": "code",
   "execution_count": 107,
   "metadata": {},
   "outputs": [
    {
     "data": {
      "text/plain": [
       "0.5118897340732692"
      ]
     },
     "execution_count": 107,
     "metadata": {},
     "output_type": "execute_result"
    }
   ],
   "source": [
    "# optimized ordersize based on folks who received the deal and bought the deal\n",
    "optimized_avg_ordersize = tuango[tuango['message_logit'] == True]\n",
    "optimized_avg_ordersize = optimized_avg_ordersize['pred_linear'].mean()\n",
    "\n",
    "nr_message_logit = tuango[tuango['message_logit']].shape[0] # total number of messages that would be sent out\n",
    "message_cost_logit = cost*nr_message_logit # total cost of sending messages to selected customers (float)\n",
    "nr_responses_logit = tuango[tuango['message_logit']]['pred_logit'].mean() * nr_message_logit # total number of positive responses\n",
    "response_rate_logit = nr_responses_logit / nr_message_logit # expressed as a proportion (no rounding)\n",
    "revenue_logit = selling_price * (optimized_avg_ordersize * nr_responses_logit) # total revenue in RMB (no rounding)\n",
    "profit_logit = 0.5 * revenue_logit - message_cost_logit # 0.5 * revenue - message_cost #- total profit in RMB (no rounding)\n",
    "ROME_logit = profit_logit/message_cost_logit # Return on Marketing Expenditures expressed as a proportion (no rounding)\n",
    "\n",
    "ROME_logit"
   ]
  },
  {
   "cell_type": "code",
   "execution_count": 108,
   "metadata": {},
   "outputs": [
    {
     "data": {
      "text/plain": [
       "174126"
      ]
     },
     "metadata": {},
     "output_type": "display_data"
    },
    {
     "data": {
      "text/plain": [
       "1567134.0"
      ]
     },
     "metadata": {},
     "output_type": "display_data"
    },
    {
     "data": {
      "text/plain": [
       "24441.801355587948"
      ]
     },
     "metadata": {},
     "output_type": "display_data"
    },
    {
     "data": {
      "text/plain": [
       "0.14036847659504006"
      ]
     },
     "metadata": {},
     "output_type": "display_data"
    },
    {
     "data": {
      "text/plain": [
       "4738667.613034357"
      ]
     },
     "metadata": {},
     "output_type": "display_data"
    },
    {
     "data": {
      "text/plain": [
       "802199.8065171787"
      ]
     },
     "metadata": {},
     "output_type": "display_data"
    },
    {
     "data": {
      "text/plain": [
       "0.5118897340732692"
      ]
     },
     "metadata": {},
     "output_type": "display_data"
    }
   ],
   "source": [
    "display(nr_message_logit, message_cost_logit, nr_responses_logit, response_rate_logit, revenue_logit, profit_logit, ROME_logit)"
   ]
  },
  {
   "attachments": {},
   "cell_type": "markdown",
   "metadata": {},
   "source": [
    "### Question 14\n",
    "\n",
    "Create a bar chart with profit information for the analyses conducted in questions 12 and 13"
   ]
  },
  {
   "cell_type": "code",
   "execution_count": 109,
   "metadata": {},
   "outputs": [
    {
     "data": {
      "image/png": "[encoded data removed]",
      "text/plain": [
       "<Figure size 640x480 with 1 Axes>"
      ]
     },
     "metadata": {},
     "output_type": "display_data"
    }
   ],
   "source": [
    "methods = ['Non-Targeted', 'Logit-Targeted']\n",
    "profits = [profit_all, profit_logit]\n",
    "\n",
    "# Creating the bar chart\n",
    "plt.bar(methods, profits, color=['red', 'green'])\n",
    "plt.xlabel('Campaign Approach')\n",
    "plt.ylabel('Profit (RMB)')\n",
    "plt.title('Comparison of Projected Profits: Non-Targeted vs Logit-Targeted Campaigns')\n",
    "plt.show()"
   ]
  },
  {
   "attachments": {},
   "cell_type": "markdown",
   "metadata": {},
   "source": [
    "### Question 15\n",
    "\n",
    "Create a bar chart with ROME for the analyses conducted in questions 12 and 13"
   ]
  },
  {
   "cell_type": "code",
   "execution_count": 110,
   "metadata": {},
   "outputs": [
    {
     "data": {
      "image/png": "[encoded data removed]",
      "text/plain": [
       "<Figure size 640x480 with 1 Axes>"
      ]
     },
     "metadata": {},
     "output_type": "display_data"
    }
   ],
   "source": [
    "methods = ['Non-Targeted', 'Logit-Targeted']\n",
    "profits = [ROME_all, ROME_logit]\n",
    "\n",
    "# Creating the bar chart\n",
    "plt.bar(methods, profits, color=['red', 'green'])\n",
    "plt.xlabel('Campaign Approach')\n",
    "plt.ylabel('ROME, ratio')\n",
    "plt.title('Comparison of ROME ratios: Non-Targeted vs Logit-Targeted Campaigns')\n",
    "plt.show()"
   ]
  },
  {
   "attachments": {},
   "cell_type": "markdown",
   "metadata": {},
   "source": [
    "### Question 16\n",
    "\n",
    "You also have access to a dataset with the results from the deal offer roll-out (tuango_post.parquet). Tuango decided to contact all remaining 397,252 customers because this would provide data that could be used to evaluate different targeting approaches. The data has a \"test\" variable (test = 1 for the data used in the test, test = 0 for the remaining customers). You can use this variable to help evaluate the actual performance for the targeting approaches evaluated in questions 12 and 13. Re-create the plots from question 14 and 15 based on this new dataset.\n",
    "\n",
    "Copy your tuango-pre.ipynb file to a new file tuango-post.ipynb. Instead of using the tuango_pre.parquet data, load tuango_post.parquet. You should be able to re-use most of your code and text. Calculate the actual performance for both targeting approach on the 'roll out' sample (i.e., test == 0).\n",
    "\n",
    "Hint 1: It is important that you do NOT use any information about buyers that were in the 'roll out' sample (i.e., test == 0) when calculating the break-even response rate etc. for targeting.\n",
    "\n",
    "Hint 2: You have the actual data on what happened in the \"post\" data. Use that information to calculate performance (i.e., do not \"project\" the performance like you had to do for questions 12 and 13).\n",
    "\n"
   ]
  },
  {
   "cell_type": "markdown",
   "metadata": {},
   "source": [
    "### Question 17\n",
    "\n",
    "Please describe how you used Generative AI-tools like ChatGPT to support your work on this assignment. Provide pdfs and/or screenshots of your “discussions” with these tools and comment on what things did and did not go well. Also add any questions you may have about the assignment and the support you received from GenAI so we can discuss these topics in class.\n",
    "\n",
    "Note: No matter how you used Generative AI-tools, you will be expected to fully understand all elements of the assignment. You may be called on in class to walk us through your thought process and how different parts of your code work. \n"
   ]
  }
 ],
 "metadata": {
  "kernelspec": {
   "display_name": "base",
   "language": "python",
   "name": "python3"
  },
  "language_info": {
   "codemirror_mode": {
    "name": "ipython",
    "version": 3
   },
   "file_extension": ".py",
   "mimetype": "text/x-python",
   "name": "python",
   "nbconvert_exporter": "python",
   "pygments_lexer": "ipython3",
   "version": "3.11.7"
  },
  "vscode": {
   "interpreter": {
    "hash": "d4d1e4263499bec80672ea0156c357c1ee493ec2b1c70f0acce89fc37c4a6abe"
   }
  }
 },
 "nbformat": 4,
 "nbformat_minor": 4
}
